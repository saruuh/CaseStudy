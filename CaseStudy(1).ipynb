{
  "cells": [
    {
      "cell_type": "markdown",
      "metadata": {},
      "source": [
        "## Importing Dataset"
      ]
    },
    {
      "cell_type": "code",
      "execution_count": 4,
      "metadata": {
        "id": "72kgRwYwQSkL"
      },
      "outputs": [
        {
          "name": "stdout",
          "output_type": "stream",
          "text": [
            "   respondentID  year    rsex yearsni                       placeliv  \\\n",
            "0             1  2012    Male      16           A small city or town   \n",
            "1             2  2012    Male      16              A country village   \n",
            "2             3  2012  Female      16           A small city or town   \n",
            "3             4  2012    Male      16  A farm or home in the country   \n",
            "4             5  2012    Male      16           A small city or town   \n",
            "\n",
            "                          thisoct  \\\n",
            "0  At school or college full time   \n",
            "1  At school or college full time   \n",
            "2  At school or college full time   \n",
            "3  At school or college full time   \n",
            "4  At school or college full time   \n",
            "\n",
            "                                           oct2yrs   typeschl  \\\n",
            "0  At college or university, and working part time    Grammar   \n",
            "1                                Working full time  Secondary   \n",
            "2         Going to college or university full time  Secondary   \n",
            "3         Going to college or university full time    Grammar   \n",
            "4                                Working full time  Secondary   \n",
            "\n",
            "                      relschl            welloff  ...         ninatid  \\\n",
            "0  All or nearly all Catholic            Average  ...           Irish   \n",
            "1    All or nearly Protestant  Not very well off  ...         British   \n",
            "2           Mostly Protestant  Not very well off  ...  Northern Irish   \n",
            "3           Mostly Protestant  Not very well off  ...         British   \n",
            "4           Mostly Protestant  Not very well off  ...           Irish   \n",
            "\n",
            "             natidimp                          protcath        rlrelago  \\\n",
            "0      Very important    Part of the Catholic community  About the same   \n",
            "1     Quite important  Part of the Protestant community  About the same   \n",
            "2  Not very important  Part of the Protestant community          Better   \n",
            "3  Not very important                           Neither      Don't know   \n",
            "4     Quite important    Part of the Catholic community           Worse   \n",
            "\n",
            "         rlrelfut    relgalwy        mxrlgngh        mxrlgwrk        ownmxsch  \\\n",
            "0  About the same         Yes    Own religion  Mixed religion    Own religion   \n",
            "1  About the same          No    Own religion  Mixed religion    Own religion   \n",
            "2          Better         Yes  Mixed religion  Mixed religion  Mixed religion   \n",
            "3          Better  Don't know  Mixed religion  Mixed religion  Mixed religion   \n",
            "4  About the same         Yes    Own religion  Mixed religion           Other   \n",
            "\n",
            "  ownreligion  \n",
            "0           2  \n",
            "1           2  \n",
            "2           0  \n",
            "3           0  \n",
            "4           1  \n",
            "\n",
            "[5 rows x 25 columns]\n"
          ]
        }
      ],
      "source": [
        "import pandas as pd\n",
        "\n",
        "df = pd.read_stata(\"YLT.dta\")\n",
        "\n",
        "# Preview the first few rows\n",
        "print(df.head())\n"
      ]
    },
    {
      "cell_type": "markdown",
      "metadata": {},
      "source": [
        "### Data Cleaning"
      ]
    },
    {
      "cell_type": "markdown",
      "metadata": {},
      "source": [
        "#### We will perform data cleaning as required, with each step clearly documented to maintain transparency and align with the study’s objective. Since the research focuses on examining the role of gender in the importance of religious identity, cases with missing gender information will be excluded from the analysis."
      ]
    },
    {
      "cell_type": "code",
      "execution_count": 5,
      "metadata": {},
      "outputs": [
        {
          "name": "stdout",
          "output_type": "stream",
          "text": [
            "rsex\n",
            "Female     5373\n",
            "Male       3753\n",
            "Missing       0\n",
            "Name: count, dtype: int64\n"
          ]
        }
      ],
      "source": [
        "# Filter the DataFrame to include only 'Male' and 'Female' genders\n",
        "df_clean = df[df['rsex'].isin(['Male', 'Female'])]\n",
        "\n",
        "# Check the result\n",
        "print(df_clean['rsex'].value_counts())"
      ]
    },
    {
      "cell_type": "markdown",
      "metadata": {},
      "source": [
        "#### To align with the study’s focus on 16-year-olds in Northern Ireland, we have filtered the dataset to include only respondents who reported being 16 years old. All other age groups have been excluded to maintain consistency and relevance to the research aim."
      ]
    },
    {
      "cell_type": "code",
      "execution_count": 6,
      "metadata": {},
      "outputs": [
        {
          "name": "stdout",
          "output_type": "stream",
          "text": [
            "yearsni\n",
            "16         8359\n",
            "15           98\n",
            "14           87\n",
            "Missing      79\n",
            "10           74\n",
            "13           63\n",
            "6            53\n",
            "12           53\n",
            "11           52\n",
            "9            41\n",
            "5            39\n",
            "4            38\n",
            "8            35\n",
            "7            30\n",
            "3            28\n",
            "2            21\n",
            "1            16\n",
            "0             2\n",
            "Name: count, dtype: int64\n"
          ]
        }
      ],
      "source": [
        "# Count how many respondents are in each age group\n",
        "print(df['yearsni'].value_counts())\n"
      ]
    },
    {
      "cell_type": "code",
      "execution_count": 7,
      "metadata": {},
      "outputs": [],
      "source": [
        "# Ensure all rows in df_clean have age == 16\n",
        "df_clean = df_clean[df_clean['yearsni'] == 16]\n"
      ]
    },
    {
      "cell_type": "code",
      "execution_count": 8,
      "metadata": {},
      "outputs": [
        {
          "name": "stdout",
          "output_type": "stream",
          "text": [
            "['Quite important', 'Not at all important', 'Neither important nor unimportant', 'Very important', 'I don't have a religious identity', 'Not very important', 'Don't know', 'Missing', 'Not asked']\n",
            "Categories (9, object): ['Very important' < 'Quite important' < 'Neither important nor unimportant' < 'Not very important' ... 'I don't have a religious identity' < 'Don't know' < 'Missing' < 'Not asked']\n"
          ]
        }
      ],
      "source": [
        "# Display unique values in the 'relidimp' column\n",
        "print(df['relidimp'].unique())\n"
      ]
    },
    {
      "cell_type": "markdown",
      "metadata": {},
      "source": [
        "#### In cleaning the \"relidimp\" (importance of religious identity) column, we chose to **exclude** responses labeled **\"Not asked\"** since these represent cases where the question was not presented to the respondent due to survey design. As such, they do not reflect a participant's choice or opinion. However, we **retained** responses marked as **\"Missing\"** because non-response can carry meaningful insights. For example, if one gender is more likely to skip the question, this may reflect differences in comfort, relevance, or identification with religious identity. Including these entries allows us to explore potential gendered patterns in disengagement or uncertainty related to religious identity.\n"
      ]
    },
    {
      "cell_type": "code",
      "execution_count": 9,
      "metadata": {},
      "outputs": [],
      "source": [
        "df_clean = df[df['relidimp'] != 'Not asked']\n"
      ]
    },
    {
      "cell_type": "code",
      "execution_count": 10,
      "metadata": {},
      "outputs": [
        {
          "name": "stderr",
          "output_type": "stream",
          "text": [
            "/tmp/ipykernel_6008/3026883381.py:2: ValueLabelTypeMismatch: \n",
            "Stata value labels (pandas categories) must be strings. Column yearsni contains\n",
            "non-string labels which will be converted to strings.  Please check that the\n",
            "Stata data file created has not lost information due to duplicate labels.\n",
            "\n",
            "  df_clean.to_stata(\"YLTclean.dta\", write_index=False)\n",
            "/tmp/ipykernel_6008/3026883381.py:2: ValueLabelTypeMismatch: \n",
            "Stata value labels (pandas categories) must be strings. Column ownreligion contains\n",
            "non-string labels which will be converted to strings.  Please check that the\n",
            "Stata data file created has not lost information due to duplicate labels.\n",
            "\n",
            "  df_clean.to_stata(\"YLTclean.dta\", write_index=False)\n"
          ]
        }
      ],
      "source": [
        "# Save the cleaned DataFrame \n",
        "df_clean.to_stata(\"YLTclean.dta\", write_index=False)\n"
      ]
    }
  ],
  "metadata": {
    "colab": {
      "provenance": []
    },
    "kernelspec": {
      "display_name": "Python 3",
      "language": "python",
      "name": "python3"
    },
    "language_info": {
      "codemirror_mode": {
        "name": "ipython",
        "version": 3
      },
      "file_extension": ".py",
      "mimetype": "text/x-python",
      "name": "python",
      "nbconvert_exporter": "python",
      "pygments_lexer": "ipython3",
      "version": "3.12.1"
    }
  },
  "nbformat": 4,
  "nbformat_minor": 0
}
